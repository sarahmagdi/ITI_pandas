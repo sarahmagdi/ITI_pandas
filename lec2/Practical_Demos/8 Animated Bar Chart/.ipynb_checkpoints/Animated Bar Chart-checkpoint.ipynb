{
 "cells": [
  {
   "cell_type": "code",
   "execution_count": 1,
   "metadata": {
    "colab": {
     "base_uri": "https://localhost:8080/"
    },
    "executionInfo": {
     "elapsed": 4028,
     "status": "ok",
     "timestamp": 1626776835693,
     "user": {
      "displayName": "George Iskander",
      "photoUrl": "https://lh3.googleusercontent.com/a-/AOh14Gi_0Ke-pEEGY7B1WRapaE4ysa45Mr2TA7Ud5knJ=s64",
      "userId": "15335367906077418533"
     },
     "user_tz": -120
    },
    "id": "qZgSAy2C1DIh",
    "outputId": "8e391911-445d-4c62-a101-b8378d151650"
   },
   "outputs": [
    {
     "name": "stdout",
     "output_type": "stream",
     "text": [
      "Collecting bar_chart_race\n",
      "  Downloading bar_chart_race-0.1.0-py3-none-any.whl (156 kB)\n",
      "Requirement already satisfied: pandas>=0.24 in c:\\users\\mamagdy\\appdata\\local\\continuum\\anaconda3\\lib\\site-packages (from bar_chart_race) (1.0.2)\n",
      "Requirement already satisfied: matplotlib>=3.1 in c:\\users\\mamagdy\\appdata\\local\\continuum\\anaconda3\\lib\\site-packages (from bar_chart_race) (3.1.3)\n",
      "Requirement already satisfied: pytz>=2017.2 in c:\\users\\mamagdy\\appdata\\local\\continuum\\anaconda3\\lib\\site-packages (from pandas>=0.24->bar_chart_race) (2019.3)\n",
      "Requirement already satisfied: numpy>=1.13.3 in c:\\users\\mamagdy\\appdata\\local\\continuum\\anaconda3\\lib\\site-packages (from pandas>=0.24->bar_chart_race) (1.18.1)\n",
      "Requirement already satisfied: python-dateutil>=2.6.1 in c:\\users\\mamagdy\\appdata\\local\\continuum\\anaconda3\\lib\\site-packages (from pandas>=0.24->bar_chart_race) (2.8.1)\n",
      "Requirement already satisfied: kiwisolver>=1.0.1 in c:\\users\\mamagdy\\appdata\\local\\continuum\\anaconda3\\lib\\site-packages (from matplotlib>=3.1->bar_chart_race) (1.1.0)\n",
      "Requirement already satisfied: cycler>=0.10 in c:\\users\\mamagdy\\appdata\\local\\continuum\\anaconda3\\lib\\site-packages (from matplotlib>=3.1->bar_chart_race) (0.10.0)\n",
      "Requirement already satisfied: pyparsing!=2.0.4,!=2.1.2,!=2.1.6,>=2.0.1 in c:\\users\\mamagdy\\appdata\\local\\continuum\\anaconda3\\lib\\site-packages (from matplotlib>=3.1->bar_chart_race) (2.4.6)\n",
      "Requirement already satisfied: six>=1.5 in c:\\users\\mamagdy\\appdata\\local\\continuum\\anaconda3\\lib\\site-packages (from python-dateutil>=2.6.1->pandas>=0.24->bar_chart_race) (1.14.0)\n",
      "Requirement already satisfied: setuptools in c:\\users\\mamagdy\\appdata\\local\\continuum\\anaconda3\\lib\\site-packages (from kiwisolver>=1.0.1->matplotlib>=3.1->bar_chart_race) (46.0.0.post20200309)\n",
      "Installing collected packages: bar-chart-race\n",
      "Successfully installed bar-chart-race-0.1.0\n"
     ]
    }
   ],
   "source": [
    "!pip install bar_chart_race"
   ]
  },
  {
   "cell_type": "code",
   "execution_count": 1,
   "metadata": {
    "executionInfo": {
     "elapsed": 250,
     "status": "ok",
     "timestamp": 1626776838030,
     "user": {
      "displayName": "George Iskander",
      "photoUrl": "https://lh3.googleusercontent.com/a-/AOh14Gi_0Ke-pEEGY7B1WRapaE4ysa45Mr2TA7Ud5knJ=s64",
      "userId": "15335367906077418533"
     },
     "user_tz": -120
    },
    "id": "m1A7GRDS1JFB"
   },
   "outputs": [],
   "source": [
    "import pandas as pd"
   ]
  },
  {
   "cell_type": "code",
   "execution_count": 2,
   "metadata": {
    "executionInfo": {
     "elapsed": 281,
     "status": "ok",
     "timestamp": 1626776840223,
     "user": {
      "displayName": "George Iskander",
      "photoUrl": "https://lh3.googleusercontent.com/a-/AOh14Gi_0Ke-pEEGY7B1WRapaE4ysa45Mr2TA7Ud5knJ=s64",
      "userId": "15335367906077418533"
     },
     "user_tz": -120
    },
    "id": "ES9uHvyY2KJk"
   },
   "outputs": [],
   "source": [
    "import bar_chart_race as bcr"
   ]
  },
  {
   "cell_type": "code",
   "execution_count": 3,
   "metadata": {
    "executionInfo": {
     "elapsed": 338,
     "status": "ok",
     "timestamp": 1626776841835,
     "user": {
      "displayName": "George Iskander",
      "photoUrl": "https://lh3.googleusercontent.com/a-/AOh14Gi_0Ke-pEEGY7B1WRapaE4ysa45Mr2TA7Ud5knJ=s64",
      "userId": "15335367906077418533"
     },
     "user_tz": -120
    },
    "id": "hApsbpsL3zw8"
   },
   "outputs": [],
   "source": [
    "df = pd.read_csv(\"https://raw.githubusercontent.com/dexplo/bar_chart_race/master/data/urban_pop.csv\")"
   ]
  },
  {
   "cell_type": "code",
   "execution_count": 4,
   "metadata": {
    "colab": {
     "base_uri": "https://localhost:8080/",
     "height": 258
    },
    "executionInfo": {
     "elapsed": 305,
     "status": "ok",
     "timestamp": 1626776844031,
     "user": {
      "displayName": "George Iskander",
      "photoUrl": "https://lh3.googleusercontent.com/a-/AOh14Gi_0Ke-pEEGY7B1WRapaE4ysa45Mr2TA7Ud5knJ=s64",
      "userId": "15335367906077418533"
     },
     "user_tz": -120
    },
    "id": "cAAvflIj5qJR",
    "outputId": "de098f51-736d-431b-c800-20868f055fd7"
   },
   "outputs": [
    {
     "data": {
      "text/html": [
       "<div>\n",
       "<style scoped>\n",
       "    .dataframe tbody tr th:only-of-type {\n",
       "        vertical-align: middle;\n",
       "    }\n",
       "\n",
       "    .dataframe tbody tr th {\n",
       "        vertical-align: top;\n",
       "    }\n",
       "\n",
       "    .dataframe thead th {\n",
       "        text-align: right;\n",
       "    }\n",
       "</style>\n",
       "<table border=\"1\" class=\"dataframe\">\n",
       "  <thead>\n",
       "    <tr style=\"text-align: right;\">\n",
       "      <th></th>\n",
       "      <th>year</th>\n",
       "      <th>United States</th>\n",
       "      <th>India</th>\n",
       "      <th>China</th>\n",
       "      <th>Ethiopia</th>\n",
       "      <th>Poland</th>\n",
       "      <th>Malaysia</th>\n",
       "      <th>Peru</th>\n",
       "      <th>Venezuela</th>\n",
       "      <th>Iraq</th>\n",
       "      <th>...</th>\n",
       "      <th>Iran</th>\n",
       "      <th>Turkey</th>\n",
       "      <th>Germany</th>\n",
       "      <th>Pakistan</th>\n",
       "      <th>Nigeria</th>\n",
       "      <th>Mexico</th>\n",
       "      <th>Russia</th>\n",
       "      <th>Japan</th>\n",
       "      <th>Indonesia</th>\n",
       "      <th>Brazil</th>\n",
       "    </tr>\n",
       "  </thead>\n",
       "  <tbody>\n",
       "    <tr>\n",
       "      <th>0</th>\n",
       "      <td>1976</td>\n",
       "      <td>160611122</td>\n",
       "      <td>138219074</td>\n",
       "      <td>162497601</td>\n",
       "      <td>3194879</td>\n",
       "      <td>19215135</td>\n",
       "      <td>4802814</td>\n",
       "      <td>9834645</td>\n",
       "      <td>10382196</td>\n",
       "      <td>7530612</td>\n",
       "      <td>...</td>\n",
       "      <td>15742290</td>\n",
       "      <td>16914583</td>\n",
       "      <td>56885943</td>\n",
       "      <td>18365687</td>\n",
       "      <td>13177979</td>\n",
       "      <td>38883279</td>\n",
       "      <td>90810675</td>\n",
       "      <td>85642808</td>\n",
       "      <td>26596457</td>\n",
       "      <td>67790415</td>\n",
       "    </tr>\n",
       "    <tr>\n",
       "      <th>1</th>\n",
       "      <td>1977</td>\n",
       "      <td>162256678</td>\n",
       "      <td>143699557</td>\n",
       "      <td>165293316</td>\n",
       "      <td>3300643</td>\n",
       "      <td>19625330</td>\n",
       "      <td>5038232</td>\n",
       "      <td>10197056</td>\n",
       "      <td>10778965</td>\n",
       "      <td>7901451</td>\n",
       "      <td>...</td>\n",
       "      <td>16521005</td>\n",
       "      <td>17474315</td>\n",
       "      <td>56801863</td>\n",
       "      <td>19175026</td>\n",
       "      <td>13868037</td>\n",
       "      <td>40371908</td>\n",
       "      <td>92479950</td>\n",
       "      <td>86538157</td>\n",
       "      <td>28001978</td>\n",
       "      <td>70478354</td>\n",
       "    </tr>\n",
       "    <tr>\n",
       "      <th>2</th>\n",
       "      <td>1978</td>\n",
       "      <td>164005080</td>\n",
       "      <td>149379782</td>\n",
       "      <td>171153535</td>\n",
       "      <td>3406129</td>\n",
       "      <td>20007316</td>\n",
       "      <td>5284698</td>\n",
       "      <td>10567468</td>\n",
       "      <td>11185526</td>\n",
       "      <td>8253727</td>\n",
       "      <td>...</td>\n",
       "      <td>17336704</td>\n",
       "      <td>18048189</td>\n",
       "      <td>56796181</td>\n",
       "      <td>20032626</td>\n",
       "      <td>14598364</td>\n",
       "      <td>41879098</td>\n",
       "      <td>94157479</td>\n",
       "      <td>87391419</td>\n",
       "      <td>29468690</td>\n",
       "      <td>73245834</td>\n",
       "    </tr>\n",
       "    <tr>\n",
       "      <th>3</th>\n",
       "      <td>1979</td>\n",
       "      <td>165847531</td>\n",
       "      <td>155285824</td>\n",
       "      <td>180399661</td>\n",
       "      <td>3522584</td>\n",
       "      <td>20341874</td>\n",
       "      <td>5539880</td>\n",
       "      <td>10945723</td>\n",
       "      <td>11600322</td>\n",
       "      <td>8598800</td>\n",
       "      <td>...</td>\n",
       "      <td>18227951</td>\n",
       "      <td>18640066</td>\n",
       "      <td>56865826</td>\n",
       "      <td>20941767</td>\n",
       "      <td>15355488</td>\n",
       "      <td>43407693</td>\n",
       "      <td>95659612</td>\n",
       "      <td>88197927</td>\n",
       "      <td>30996679</td>\n",
       "      <td>76091693</td>\n",
       "    </tr>\n",
       "    <tr>\n",
       "      <th>4</th>\n",
       "      <td>1980</td>\n",
       "      <td>167551171</td>\n",
       "      <td>161444128</td>\n",
       "      <td>189947471</td>\n",
       "      <td>3658252</td>\n",
       "      <td>20663601</td>\n",
       "      <td>5801267</td>\n",
       "      <td>11331194</td>\n",
       "      <td>12022351</td>\n",
       "      <td>8945814</td>\n",
       "      <td>...</td>\n",
       "      <td>19206467</td>\n",
       "      <td>19252680</td>\n",
       "      <td>57028530</td>\n",
       "      <td>21906732</td>\n",
       "      <td>16131172</td>\n",
       "      <td>44952217</td>\n",
       "      <td>96960865</td>\n",
       "      <td>88958689</td>\n",
       "      <td>32591870</td>\n",
       "      <td>79015954</td>\n",
       "    </tr>\n",
       "  </tbody>\n",
       "</table>\n",
       "<p>5 rows × 38 columns</p>\n",
       "</div>"
      ],
      "text/plain": [
       "   year  United States      India      China  Ethiopia    Poland  Malaysia  \\\n",
       "0  1976      160611122  138219074  162497601   3194879  19215135   4802814   \n",
       "1  1977      162256678  143699557  165293316   3300643  19625330   5038232   \n",
       "2  1978      164005080  149379782  171153535   3406129  20007316   5284698   \n",
       "3  1979      165847531  155285824  180399661   3522584  20341874   5539880   \n",
       "4  1980      167551171  161444128  189947471   3658252  20663601   5801267   \n",
       "\n",
       "       Peru  Venezuela     Iraq  ...      Iran    Turkey   Germany  Pakistan  \\\n",
       "0   9834645   10382196  7530612  ...  15742290  16914583  56885943  18365687   \n",
       "1  10197056   10778965  7901451  ...  16521005  17474315  56801863  19175026   \n",
       "2  10567468   11185526  8253727  ...  17336704  18048189  56796181  20032626   \n",
       "3  10945723   11600322  8598800  ...  18227951  18640066  56865826  20941767   \n",
       "4  11331194   12022351  8945814  ...  19206467  19252680  57028530  21906732   \n",
       "\n",
       "    Nigeria    Mexico    Russia     Japan  Indonesia    Brazil  \n",
       "0  13177979  38883279  90810675  85642808   26596457  67790415  \n",
       "1  13868037  40371908  92479950  86538157   28001978  70478354  \n",
       "2  14598364  41879098  94157479  87391419   29468690  73245834  \n",
       "3  15355488  43407693  95659612  88197927   30996679  76091693  \n",
       "4  16131172  44952217  96960865  88958689   32591870  79015954  \n",
       "\n",
       "[5 rows x 38 columns]"
      ]
     },
     "execution_count": 4,
     "metadata": {},
     "output_type": "execute_result"
    }
   ],
   "source": [
    "df.head()"
   ]
  },
  {
   "cell_type": "code",
   "execution_count": 5,
   "metadata": {
    "executionInfo": {
     "elapsed": 257,
     "status": "ok",
     "timestamp": 1626776854051,
     "user": {
      "displayName": "George Iskander",
      "photoUrl": "https://lh3.googleusercontent.com/a-/AOh14Gi_0Ke-pEEGY7B1WRapaE4ysa45Mr2TA7Ud5knJ=s64",
      "userId": "15335367906077418533"
     },
     "user_tz": -120
    },
    "id": "Fk4faqyI5rGq"
   },
   "outputs": [],
   "source": [
    "df = df.set_index('year')"
   ]
  },
  {
   "cell_type": "code",
   "execution_count": 6,
   "metadata": {
    "colab": {
     "base_uri": "https://localhost:8080/",
     "height": 289
    },
    "executionInfo": {
     "elapsed": 243,
     "status": "ok",
     "timestamp": 1626776856068,
     "user": {
      "displayName": "George Iskander",
      "photoUrl": "https://lh3.googleusercontent.com/a-/AOh14Gi_0Ke-pEEGY7B1WRapaE4ysa45Mr2TA7Ud5knJ=s64",
      "userId": "15335367906077418533"
     },
     "user_tz": -120
    },
    "id": "CFDbubxh5y4O",
    "outputId": "2df21a35-eb2a-49cc-8acd-66a88ef2cdf8"
   },
   "outputs": [
    {
     "data": {
      "text/html": [
       "<div>\n",
       "<style scoped>\n",
       "    .dataframe tbody tr th:only-of-type {\n",
       "        vertical-align: middle;\n",
       "    }\n",
       "\n",
       "    .dataframe tbody tr th {\n",
       "        vertical-align: top;\n",
       "    }\n",
       "\n",
       "    .dataframe thead th {\n",
       "        text-align: right;\n",
       "    }\n",
       "</style>\n",
       "<table border=\"1\" class=\"dataframe\">\n",
       "  <thead>\n",
       "    <tr style=\"text-align: right;\">\n",
       "      <th></th>\n",
       "      <th>United States</th>\n",
       "      <th>India</th>\n",
       "      <th>China</th>\n",
       "      <th>Ethiopia</th>\n",
       "      <th>Poland</th>\n",
       "      <th>Malaysia</th>\n",
       "      <th>Peru</th>\n",
       "      <th>Venezuela</th>\n",
       "      <th>Iraq</th>\n",
       "      <th>Saudi Arabia</th>\n",
       "      <th>...</th>\n",
       "      <th>Iran</th>\n",
       "      <th>Turkey</th>\n",
       "      <th>Germany</th>\n",
       "      <th>Pakistan</th>\n",
       "      <th>Nigeria</th>\n",
       "      <th>Mexico</th>\n",
       "      <th>Russia</th>\n",
       "      <th>Japan</th>\n",
       "      <th>Indonesia</th>\n",
       "      <th>Brazil</th>\n",
       "    </tr>\n",
       "    <tr>\n",
       "      <th>year</th>\n",
       "      <th></th>\n",
       "      <th></th>\n",
       "      <th></th>\n",
       "      <th></th>\n",
       "      <th></th>\n",
       "      <th></th>\n",
       "      <th></th>\n",
       "      <th></th>\n",
       "      <th></th>\n",
       "      <th></th>\n",
       "      <th></th>\n",
       "      <th></th>\n",
       "      <th></th>\n",
       "      <th></th>\n",
       "      <th></th>\n",
       "      <th></th>\n",
       "      <th></th>\n",
       "      <th></th>\n",
       "      <th></th>\n",
       "      <th></th>\n",
       "      <th></th>\n",
       "    </tr>\n",
       "  </thead>\n",
       "  <tbody>\n",
       "    <tr>\n",
       "      <th>1976</th>\n",
       "      <td>160611122</td>\n",
       "      <td>138219074</td>\n",
       "      <td>162497601</td>\n",
       "      <td>3194879</td>\n",
       "      <td>19215135</td>\n",
       "      <td>4802814</td>\n",
       "      <td>9834645</td>\n",
       "      <td>10382196</td>\n",
       "      <td>7530612</td>\n",
       "      <td>4673719</td>\n",
       "      <td>...</td>\n",
       "      <td>15742290</td>\n",
       "      <td>16914583</td>\n",
       "      <td>56885943</td>\n",
       "      <td>18365687</td>\n",
       "      <td>13177979</td>\n",
       "      <td>38883279</td>\n",
       "      <td>90810675</td>\n",
       "      <td>85642808</td>\n",
       "      <td>26596457</td>\n",
       "      <td>67790415</td>\n",
       "    </tr>\n",
       "    <tr>\n",
       "      <th>1977</th>\n",
       "      <td>162256678</td>\n",
       "      <td>143699557</td>\n",
       "      <td>165293316</td>\n",
       "      <td>3300643</td>\n",
       "      <td>19625330</td>\n",
       "      <td>5038232</td>\n",
       "      <td>10197056</td>\n",
       "      <td>10778965</td>\n",
       "      <td>7901451</td>\n",
       "      <td>5041250</td>\n",
       "      <td>...</td>\n",
       "      <td>16521005</td>\n",
       "      <td>17474315</td>\n",
       "      <td>56801863</td>\n",
       "      <td>19175026</td>\n",
       "      <td>13868037</td>\n",
       "      <td>40371908</td>\n",
       "      <td>92479950</td>\n",
       "      <td>86538157</td>\n",
       "      <td>28001978</td>\n",
       "      <td>70478354</td>\n",
       "    </tr>\n",
       "    <tr>\n",
       "      <th>1978</th>\n",
       "      <td>164005080</td>\n",
       "      <td>149379782</td>\n",
       "      <td>171153535</td>\n",
       "      <td>3406129</td>\n",
       "      <td>20007316</td>\n",
       "      <td>5284698</td>\n",
       "      <td>10567468</td>\n",
       "      <td>11185526</td>\n",
       "      <td>8253727</td>\n",
       "      <td>5441027</td>\n",
       "      <td>...</td>\n",
       "      <td>17336704</td>\n",
       "      <td>18048189</td>\n",
       "      <td>56796181</td>\n",
       "      <td>20032626</td>\n",
       "      <td>14598364</td>\n",
       "      <td>41879098</td>\n",
       "      <td>94157479</td>\n",
       "      <td>87391419</td>\n",
       "      <td>29468690</td>\n",
       "      <td>73245834</td>\n",
       "    </tr>\n",
       "    <tr>\n",
       "      <th>1979</th>\n",
       "      <td>165847531</td>\n",
       "      <td>155285824</td>\n",
       "      <td>180399661</td>\n",
       "      <td>3522584</td>\n",
       "      <td>20341874</td>\n",
       "      <td>5539880</td>\n",
       "      <td>10945723</td>\n",
       "      <td>11600322</td>\n",
       "      <td>8598800</td>\n",
       "      <td>5885282</td>\n",
       "      <td>...</td>\n",
       "      <td>18227951</td>\n",
       "      <td>18640066</td>\n",
       "      <td>56865826</td>\n",
       "      <td>20941767</td>\n",
       "      <td>15355488</td>\n",
       "      <td>43407693</td>\n",
       "      <td>95659612</td>\n",
       "      <td>88197927</td>\n",
       "      <td>30996679</td>\n",
       "      <td>76091693</td>\n",
       "    </tr>\n",
       "    <tr>\n",
       "      <th>1980</th>\n",
       "      <td>167551171</td>\n",
       "      <td>161444128</td>\n",
       "      <td>189947471</td>\n",
       "      <td>3658252</td>\n",
       "      <td>20663601</td>\n",
       "      <td>5801267</td>\n",
       "      <td>11331194</td>\n",
       "      <td>12022351</td>\n",
       "      <td>8945814</td>\n",
       "      <td>6382806</td>\n",
       "      <td>...</td>\n",
       "      <td>19206467</td>\n",
       "      <td>19252680</td>\n",
       "      <td>57028530</td>\n",
       "      <td>21906732</td>\n",
       "      <td>16131172</td>\n",
       "      <td>44952217</td>\n",
       "      <td>96960865</td>\n",
       "      <td>88958689</td>\n",
       "      <td>32591870</td>\n",
       "      <td>79015954</td>\n",
       "    </tr>\n",
       "  </tbody>\n",
       "</table>\n",
       "<p>5 rows × 37 columns</p>\n",
       "</div>"
      ],
      "text/plain": [
       "      United States      India      China  Ethiopia    Poland  Malaysia  \\\n",
       "year                                                                      \n",
       "1976      160611122  138219074  162497601   3194879  19215135   4802814   \n",
       "1977      162256678  143699557  165293316   3300643  19625330   5038232   \n",
       "1978      164005080  149379782  171153535   3406129  20007316   5284698   \n",
       "1979      165847531  155285824  180399661   3522584  20341874   5539880   \n",
       "1980      167551171  161444128  189947471   3658252  20663601   5801267   \n",
       "\n",
       "          Peru  Venezuela     Iraq  Saudi Arabia  ...      Iran    Turkey  \\\n",
       "year                                              ...                       \n",
       "1976   9834645   10382196  7530612       4673719  ...  15742290  16914583   \n",
       "1977  10197056   10778965  7901451       5041250  ...  16521005  17474315   \n",
       "1978  10567468   11185526  8253727       5441027  ...  17336704  18048189   \n",
       "1979  10945723   11600322  8598800       5885282  ...  18227951  18640066   \n",
       "1980  11331194   12022351  8945814       6382806  ...  19206467  19252680   \n",
       "\n",
       "       Germany  Pakistan   Nigeria    Mexico    Russia     Japan  Indonesia  \\\n",
       "year                                                                          \n",
       "1976  56885943  18365687  13177979  38883279  90810675  85642808   26596457   \n",
       "1977  56801863  19175026  13868037  40371908  92479950  86538157   28001978   \n",
       "1978  56796181  20032626  14598364  41879098  94157479  87391419   29468690   \n",
       "1979  56865826  20941767  15355488  43407693  95659612  88197927   30996679   \n",
       "1980  57028530  21906732  16131172  44952217  96960865  88958689   32591870   \n",
       "\n",
       "        Brazil  \n",
       "year            \n",
       "1976  67790415  \n",
       "1977  70478354  \n",
       "1978  73245834  \n",
       "1979  76091693  \n",
       "1980  79015954  \n",
       "\n",
       "[5 rows x 37 columns]"
      ]
     },
     "execution_count": 6,
     "metadata": {},
     "output_type": "execute_result"
    }
   ],
   "source": [
    "df.head()"
   ]
  },
  {
   "cell_type": "code",
   "execution_count": 7,
   "metadata": {
    "colab": {
     "base_uri": "https://localhost:8080/"
    },
    "executionInfo": {
     "elapsed": 316,
     "status": "ok",
     "timestamp": 1626776860254,
     "user": {
      "displayName": "George Iskander",
      "photoUrl": "https://lh3.googleusercontent.com/a-/AOh14Gi_0Ke-pEEGY7B1WRapaE4ysa45Mr2TA7Ud5knJ=s64",
      "userId": "15335367906077418533"
     },
     "user_tz": -120
    },
    "id": "-jXbW_l950Q5",
    "outputId": "d90d4c56-b244-4ccb-f69f-091b5b52a0cf"
   },
   "outputs": [
    {
     "data": {
      "text/plain": [
       "Index(['United States', 'India', 'China', 'Ethiopia', 'Poland', 'Malaysia',\n",
       "       'Peru', 'Venezuela', 'Iraq', 'Saudi Arabia', 'Canada', 'Algeria',\n",
       "       'Ukraine', 'Vietnam', 'Thailand', 'Congo, Dem. Rep.', 'Spain',\n",
       "       'South Africa', 'Colombia', 'Argentina', 'Egypt', 'South Korea',\n",
       "       'Italy', 'Philippines', 'France', 'United Kingdom', 'Bangladesh',\n",
       "       'Iran', 'Turkey', 'Germany', 'Pakistan', 'Nigeria', 'Mexico', 'Russia',\n",
       "       'Japan', 'Indonesia', 'Brazil'],\n",
       "      dtype='object')"
      ]
     },
     "execution_count": 7,
     "metadata": {},
     "output_type": "execute_result"
    }
   ],
   "source": [
    "df.columns"
   ]
  },
  {
   "cell_type": "code",
   "execution_count": null,
   "metadata": {
    "colab": {
     "base_uri": "https://localhost:8080/",
     "height": 525,
     "output_embedded_package_id": "19yNkGULPbS142ix91CnO3QdznHKPrgFR"
    },
    "executionInfo": {
     "elapsed": 92149,
     "status": "ok",
     "timestamp": 1626776957345,
     "user": {
      "displayName": "George Iskander",
      "photoUrl": "https://lh3.googleusercontent.com/a-/AOh14Gi_0Ke-pEEGY7B1WRapaE4ysa45Mr2TA7Ud5knJ=s64",
      "userId": "15335367906077418533"
     },
     "user_tz": -120
    },
    "id": "b9tjDA1g53XT",
    "outputId": "0faa77cb-9050-4c3e-afc3-198f4ec90cbd"
   },
   "outputs": [],
   "source": [
    "bcr.bar_chart_race(df = df, title = \"Population Growth\")"
   ]
  },
  {
   "cell_type": "code",
   "execution_count": null,
   "metadata": {
    "colab": {
     "base_uri": "https://localhost:8080/",
     "height": 0
    },
    "executionInfo": {
     "elapsed": 46450,
     "status": "ok",
     "timestamp": 1626777280640,
     "user": {
      "displayName": "George Iskander",
      "photoUrl": "https://lh3.googleusercontent.com/a-/AOh14Gi_0Ke-pEEGY7B1WRapaE4ysa45Mr2TA7Ud5knJ=s64",
      "userId": "15335367906077418533"
     },
     "user_tz": -120
    },
    "id": "SdxoqS4F6G1T",
    "outputId": "5f67e2c4-b276-49db-f4c5-37a57b6003f5"
   },
   "outputs": [],
   "source": [
    "bcr.bar_chart_race(df = df, title = \"Population Growth\",n_bars=10, orientation='h', cmap = 'prism')"
   ]
  },
  {
   "cell_type": "markdown",
   "metadata": {
    "id": "Zl_D3SZd6r0l"
   },
   "source": [
    "You will need to follow what mentioned here https://stackoverflow.com/a/44483126, if you met the ffmpeg error"
   ]
  },
  {
   "cell_type": "markdown",
   "metadata": {},
   "source": [
    "It's good to read this to know more about the parameters: https://www.dunderdata.com/blog/official-release-of-bar_chart_race-a-python-package-for-creating-animated-bar-chart-races"
   ]
  },
  {
   "cell_type": "code",
   "execution_count": null,
   "metadata": {},
   "outputs": [],
   "source": []
  }
 ],
 "metadata": {
  "colab": {
   "name": "Python_Matplotlib_Animated_Bar_Chart_Race.ipynb",
   "provenance": []
  },
  "kernelspec": {
   "display_name": "Python 3",
   "language": "python",
   "name": "python3"
  },
  "language_info": {
   "codemirror_mode": {
    "name": "ipython",
    "version": 3
   },
   "file_extension": ".py",
   "mimetype": "text/x-python",
   "name": "python",
   "nbconvert_exporter": "python",
   "pygments_lexer": "ipython3",
   "version": "3.7.6"
  }
 },
 "nbformat": 4,
 "nbformat_minor": 1
}
